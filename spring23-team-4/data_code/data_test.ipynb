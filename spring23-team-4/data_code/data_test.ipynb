{
 "cells": [
  {
   "cell_type": "code",
   "execution_count": 2,
   "metadata": {},
   "outputs": [
    {
     "name": "stderr",
     "output_type": "stream",
     "text": [
      "/var/folders/pl/0qrs2c_56bd6q9jwb600j60h0000gn/T/ipykernel_16573/4104424442.py:3: DtypeWarning: Columns (22,23,24,26,27,28,29,30,31,32,33,38,43,44) have mixed types. Specify dtype option on import or set low_memory=False.\n",
      "  df = pd.read_csv(\"msamd_14454.csv\")\n"
     ]
    },
    {
     "data": {
      "text/html": [
       "<div>\n",
       "<style scoped>\n",
       "    .dataframe tbody tr th:only-of-type {\n",
       "        vertical-align: middle;\n",
       "    }\n",
       "\n",
       "    .dataframe tbody tr th {\n",
       "        vertical-align: top;\n",
       "    }\n",
       "\n",
       "    .dataframe thead th {\n",
       "        text-align: right;\n",
       "    }\n",
       "</style>\n",
       "<table border=\"1\" class=\"dataframe\">\n",
       "  <thead>\n",
       "    <tr style=\"text-align: right;\">\n",
       "      <th></th>\n",
       "      <th>activity_year</th>\n",
       "      <th>lei</th>\n",
       "      <th>derived_msa-md</th>\n",
       "      <th>state_code</th>\n",
       "      <th>county_code</th>\n",
       "      <th>census_tract</th>\n",
       "      <th>conforming_loan_limit</th>\n",
       "      <th>derived_loan_product_type</th>\n",
       "      <th>derived_dwelling_category</th>\n",
       "      <th>derived_ethnicity</th>\n",
       "      <th>...</th>\n",
       "      <th>denial_reason-2</th>\n",
       "      <th>denial_reason-3</th>\n",
       "      <th>denial_reason-4</th>\n",
       "      <th>tract_population</th>\n",
       "      <th>tract_minority_population_percent</th>\n",
       "      <th>ffiec_msa_md_median_family_income</th>\n",
       "      <th>tract_to_msa_income_percentage</th>\n",
       "      <th>tract_owner_occupied_units</th>\n",
       "      <th>tract_one_to_four_family_homes</th>\n",
       "      <th>tract_median_age_of_housing_units</th>\n",
       "    </tr>\n",
       "  </thead>\n",
       "  <tbody>\n",
       "    <tr>\n",
       "      <th>0</th>\n",
       "      <td>2021</td>\n",
       "      <td>549300DAUXQ2DCY4H838</td>\n",
       "      <td>14454</td>\n",
       "      <td>MA</td>\n",
       "      <td>25021.0</td>\n",
       "      <td>2.502140e+10</td>\n",
       "      <td>C</td>\n",
       "      <td>Conventional:First Lien</td>\n",
       "      <td>Single Family (1-4 Units):Site-Built</td>\n",
       "      <td>Not Hispanic or Latino</td>\n",
       "      <td>...</td>\n",
       "      <td>NaN</td>\n",
       "      <td>NaN</td>\n",
       "      <td>NaN</td>\n",
       "      <td>4448</td>\n",
       "      <td>31.27</td>\n",
       "      <td>113700</td>\n",
       "      <td>91</td>\n",
       "      <td>1016</td>\n",
       "      <td>1519</td>\n",
       "      <td>72</td>\n",
       "    </tr>\n",
       "    <tr>\n",
       "      <th>1</th>\n",
       "      <td>2021</td>\n",
       "      <td>549300DAUXQ2DCY4H838</td>\n",
       "      <td>14454</td>\n",
       "      <td>MA</td>\n",
       "      <td>25021.0</td>\n",
       "      <td>2.502140e+10</td>\n",
       "      <td>NC</td>\n",
       "      <td>Conventional:First Lien</td>\n",
       "      <td>Single Family (1-4 Units):Site-Built</td>\n",
       "      <td>Not Hispanic or Latino</td>\n",
       "      <td>...</td>\n",
       "      <td>NaN</td>\n",
       "      <td>NaN</td>\n",
       "      <td>NaN</td>\n",
       "      <td>4230</td>\n",
       "      <td>7.78</td>\n",
       "      <td>113700</td>\n",
       "      <td>179</td>\n",
       "      <td>1228</td>\n",
       "      <td>1394</td>\n",
       "      <td>60</td>\n",
       "    </tr>\n",
       "    <tr>\n",
       "      <th>2</th>\n",
       "      <td>2021</td>\n",
       "      <td>549300DAUXQ2DCY4H838</td>\n",
       "      <td>14454</td>\n",
       "      <td>MA</td>\n",
       "      <td>25023.0</td>\n",
       "      <td>2.502350e+10</td>\n",
       "      <td>C</td>\n",
       "      <td>Conventional:First Lien</td>\n",
       "      <td>Single Family (1-4 Units):Site-Built</td>\n",
       "      <td>Not Hispanic or Latino</td>\n",
       "      <td>...</td>\n",
       "      <td>NaN</td>\n",
       "      <td>NaN</td>\n",
       "      <td>NaN</td>\n",
       "      <td>7312</td>\n",
       "      <td>2.95</td>\n",
       "      <td>113700</td>\n",
       "      <td>132</td>\n",
       "      <td>2099</td>\n",
       "      <td>2345</td>\n",
       "      <td>43</td>\n",
       "    </tr>\n",
       "    <tr>\n",
       "      <th>3</th>\n",
       "      <td>2021</td>\n",
       "      <td>549300DAUXQ2DCY4H838</td>\n",
       "      <td>14454</td>\n",
       "      <td>MA</td>\n",
       "      <td>25023.0</td>\n",
       "      <td>2.502351e+10</td>\n",
       "      <td>C</td>\n",
       "      <td>Conventional:First Lien</td>\n",
       "      <td>Single Family (1-4 Units):Site-Built</td>\n",
       "      <td>Not Hispanic or Latino</td>\n",
       "      <td>...</td>\n",
       "      <td>NaN</td>\n",
       "      <td>NaN</td>\n",
       "      <td>NaN</td>\n",
       "      <td>2380</td>\n",
       "      <td>77.98</td>\n",
       "      <td>113700</td>\n",
       "      <td>18</td>\n",
       "      <td>16</td>\n",
       "      <td>343</td>\n",
       "      <td>51</td>\n",
       "    </tr>\n",
       "    <tr>\n",
       "      <th>4</th>\n",
       "      <td>2021</td>\n",
       "      <td>549300DAUXQ2DCY4H838</td>\n",
       "      <td>14454</td>\n",
       "      <td>MA</td>\n",
       "      <td>25025.0</td>\n",
       "      <td>2.502513e+10</td>\n",
       "      <td>C</td>\n",
       "      <td>Conventional:First Lien</td>\n",
       "      <td>Single Family (1-4 Units):Site-Built</td>\n",
       "      <td>Ethnicity Not Available</td>\n",
       "      <td>...</td>\n",
       "      <td>NaN</td>\n",
       "      <td>NaN</td>\n",
       "      <td>NaN</td>\n",
       "      <td>5399</td>\n",
       "      <td>69.98</td>\n",
       "      <td>113700</td>\n",
       "      <td>54</td>\n",
       "      <td>568</td>\n",
       "      <td>1437</td>\n",
       "      <td>48</td>\n",
       "    </tr>\n",
       "  </tbody>\n",
       "</table>\n",
       "<p>5 rows × 99 columns</p>\n",
       "</div>"
      ],
      "text/plain": [
       "   activity_year                   lei  derived_msa-md state_code  \\\n",
       "0           2021  549300DAUXQ2DCY4H838           14454         MA   \n",
       "1           2021  549300DAUXQ2DCY4H838           14454         MA   \n",
       "2           2021  549300DAUXQ2DCY4H838           14454         MA   \n",
       "3           2021  549300DAUXQ2DCY4H838           14454         MA   \n",
       "4           2021  549300DAUXQ2DCY4H838           14454         MA   \n",
       "\n",
       "   county_code  census_tract conforming_loan_limit derived_loan_product_type  \\\n",
       "0      25021.0  2.502140e+10                     C   Conventional:First Lien   \n",
       "1      25021.0  2.502140e+10                    NC   Conventional:First Lien   \n",
       "2      25023.0  2.502350e+10                     C   Conventional:First Lien   \n",
       "3      25023.0  2.502351e+10                     C   Conventional:First Lien   \n",
       "4      25025.0  2.502513e+10                     C   Conventional:First Lien   \n",
       "\n",
       "              derived_dwelling_category        derived_ethnicity  ...  \\\n",
       "0  Single Family (1-4 Units):Site-Built   Not Hispanic or Latino  ...   \n",
       "1  Single Family (1-4 Units):Site-Built   Not Hispanic or Latino  ...   \n",
       "2  Single Family (1-4 Units):Site-Built   Not Hispanic or Latino  ...   \n",
       "3  Single Family (1-4 Units):Site-Built   Not Hispanic or Latino  ...   \n",
       "4  Single Family (1-4 Units):Site-Built  Ethnicity Not Available  ...   \n",
       "\n",
       "  denial_reason-2 denial_reason-3  denial_reason-4  tract_population  \\\n",
       "0             NaN             NaN              NaN              4448   \n",
       "1             NaN             NaN              NaN              4230   \n",
       "2             NaN             NaN              NaN              7312   \n",
       "3             NaN             NaN              NaN              2380   \n",
       "4             NaN             NaN              NaN              5399   \n",
       "\n",
       "   tract_minority_population_percent  ffiec_msa_md_median_family_income  \\\n",
       "0                              31.27                             113700   \n",
       "1                               7.78                             113700   \n",
       "2                               2.95                             113700   \n",
       "3                              77.98                             113700   \n",
       "4                              69.98                             113700   \n",
       "\n",
       "   tract_to_msa_income_percentage  tract_owner_occupied_units  \\\n",
       "0                              91                        1016   \n",
       "1                             179                        1228   \n",
       "2                             132                        2099   \n",
       "3                              18                          16   \n",
       "4                              54                         568   \n",
       "\n",
       "   tract_one_to_four_family_homes  tract_median_age_of_housing_units  \n",
       "0                            1519                                 72  \n",
       "1                            1394                                 60  \n",
       "2                            2345                                 43  \n",
       "3                             343                                 51  \n",
       "4                            1437                                 48  \n",
       "\n",
       "[5 rows x 99 columns]"
      ]
     },
     "execution_count": 2,
     "metadata": {},
     "output_type": "execute_result"
    }
   ],
   "source": [
    "import pandas as pd\n",
    "\n",
    "df = pd.read_csv(\"msamd_14454.csv\")\n",
    "df.head()"
   ]
  },
  {
   "attachments": {},
   "cell_type": "markdown",
   "metadata": {},
   "source": [
    "By county determine how many loans were taken.\n",
    "\n",
    "A loan being taken has a value of 1 in the 'action_taken' column"
   ]
  },
  {
   "cell_type": "code",
   "execution_count": 27,
   "metadata": {},
   "outputs": [
    {
     "data": {
      "text/plain": [
       "<AxesSubplot:xlabel='county_code'>"
      ]
     },
     "execution_count": 27,
     "metadata": {},
     "output_type": "execute_result"
    },
    {
     "data": {
      "image/png": "[encoded data removed]",
      "text/plain": [
       "<Figure size 640x480 with 1 Axes>"
      ]
     },
     "metadata": {},
     "output_type": "display_data"
    }
   ],
   "source": [
    "df3 = df[['county_code', 'action_taken']]\n",
    "df3['action_taken'].map({1: 1, 2: 0}).fillna(0)\n",
    "df3 = df3.query('action_taken == 1')\n",
    "df3.groupby('county_code').count().plot(kind='bar')"
   ]
  },
  {
   "cell_type": "code",
   "execution_count": 28,
   "metadata": {},
   "outputs": [
    {
     "name": "stdout",
     "output_type": "stream",
     "text": [
      "Norfolk: 40175\n",
      "Plymouth: 33453\n",
      "Suffolk: 27140\n"
     ]
    }
   ],
   "source": [
    "county_codes_dict = {25021: 'Norfolk', 25023: 'Plymouth', 25025: 'Suffolk'}\n",
    "per_county_count = df3['county_code'].value_counts()\n",
    "\n",
    "for county_code in county_codes_dict.keys():\n",
    "    print(f\"{county_codes_dict[county_code]}: {per_county_count[county_code]}\")"
   ]
  },
  {
   "cell_type": "markdown",
   "metadata": {},
   "source": []
  }
 ],
 "metadata": {
  "kernelspec": {
   "display_name": "Python 3",
   "language": "python",
   "name": "python3"
  },
  "language_info": {
   "codemirror_mode": {
    "name": "ipython",
    "version": 3
   },
   "file_extension": ".py",
   "mimetype": "text/x-python",
   "name": "python",
   "nbconvert_exporter": "python",
   "pygments_lexer": "ipython3",
   "version": "3.9.6"
  },
  "vscode": {
   "interpreter": {
    "hash": "aee8b7b246df8f9039afb4144a1f6fd8d2ca17a180786b69acc140d282b71a49"
   }
  }
 },
 "nbformat": 4,
 "nbformat_minor": 4
}
