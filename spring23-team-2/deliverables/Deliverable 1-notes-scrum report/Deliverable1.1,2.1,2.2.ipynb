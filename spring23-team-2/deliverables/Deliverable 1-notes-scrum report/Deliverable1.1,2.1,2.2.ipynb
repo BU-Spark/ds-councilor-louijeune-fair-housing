{
 "cells": [
  {
   "cell_type": "code",
   "execution_count": 15,
   "metadata": {},
   "outputs": [
    {
     "data": {
      "text/html": [
       "<div>\n",
       "<style scoped>\n",
       "    .dataframe tbody tr th:only-of-type {\n",
       "        vertical-align: middle;\n",
       "    }\n",
       "\n",
       "    .dataframe tbody tr th {\n",
       "        vertical-align: top;\n",
       "    }\n",
       "\n",
       "    .dataframe thead th {\n",
       "        text-align: right;\n",
       "    }\n",
       "</style>\n",
       "<table border=\"1\" class=\"dataframe\">\n",
       "  <thead>\n",
       "    <tr style=\"text-align: right;\">\n",
       "      <th></th>\n",
       "      <th>Zip Code</th>\n",
       "      <th>TtlProjUnits</th>\n",
       "      <th>RentUnits</th>\n",
       "      <th>OwnUnits</th>\n",
       "      <th>TtlMarket</th>\n",
       "      <th>MarketRent</th>\n",
       "      <th>MarketOwn</th>\n",
       "      <th>Total Income-Restricted</th>\n",
       "      <th>Income-Restricted Rental</th>\n",
       "      <th>Income-Restricted Ownership</th>\n",
       "    </tr>\n",
       "  </thead>\n",
       "  <tbody>\n",
       "    <tr>\n",
       "      <th>count</th>\n",
       "      <td>1442.000000</td>\n",
       "      <td>1445.000000</td>\n",
       "      <td>1445.000000</td>\n",
       "      <td>1445.000000</td>\n",
       "      <td>1444.000000</td>\n",
       "      <td>1444.000000</td>\n",
       "      <td>1444.000000</td>\n",
       "      <td>1445.000000</td>\n",
       "      <td>1445.000000</td>\n",
       "      <td>1444.000000</td>\n",
       "    </tr>\n",
       "    <tr>\n",
       "      <th>mean</th>\n",
       "      <td>2125.432039</td>\n",
       "      <td>59.560554</td>\n",
       "      <td>50.979239</td>\n",
       "      <td>8.581315</td>\n",
       "      <td>20.247230</td>\n",
       "      <td>13.674515</td>\n",
       "      <td>6.572715</td>\n",
       "      <td>39.321107</td>\n",
       "      <td>37.319031</td>\n",
       "      <td>2.003463</td>\n",
       "    </tr>\n",
       "    <tr>\n",
       "      <th>std</th>\n",
       "      <td>13.627488</td>\n",
       "      <td>102.308222</td>\n",
       "      <td>100.132590</td>\n",
       "      <td>29.216307</td>\n",
       "      <td>63.463419</td>\n",
       "      <td>55.704068</td>\n",
       "      <td>27.671639</td>\n",
       "      <td>81.572228</td>\n",
       "      <td>82.166087</td>\n",
       "      <td>5.679777</td>\n",
       "    </tr>\n",
       "    <tr>\n",
       "      <th>min</th>\n",
       "      <td>2108.000000</td>\n",
       "      <td>1.000000</td>\n",
       "      <td>0.000000</td>\n",
       "      <td>0.000000</td>\n",
       "      <td>0.000000</td>\n",
       "      <td>0.000000</td>\n",
       "      <td>0.000000</td>\n",
       "      <td>1.000000</td>\n",
       "      <td>0.000000</td>\n",
       "      <td>0.000000</td>\n",
       "    </tr>\n",
       "    <tr>\n",
       "      <th>25%</th>\n",
       "      <td>2119.000000</td>\n",
       "      <td>5.000000</td>\n",
       "      <td>1.000000</td>\n",
       "      <td>0.000000</td>\n",
       "      <td>0.000000</td>\n",
       "      <td>0.000000</td>\n",
       "      <td>0.000000</td>\n",
       "      <td>3.000000</td>\n",
       "      <td>1.000000</td>\n",
       "      <td>0.000000</td>\n",
       "    </tr>\n",
       "    <tr>\n",
       "      <th>50%</th>\n",
       "      <td>2124.000000</td>\n",
       "      <td>23.000000</td>\n",
       "      <td>10.000000</td>\n",
       "      <td>0.000000</td>\n",
       "      <td>0.000000</td>\n",
       "      <td>0.000000</td>\n",
       "      <td>0.000000</td>\n",
       "      <td>10.000000</td>\n",
       "      <td>6.000000</td>\n",
       "      <td>0.000000</td>\n",
       "    </tr>\n",
       "    <tr>\n",
       "      <th>75%</th>\n",
       "      <td>2128.000000</td>\n",
       "      <td>66.000000</td>\n",
       "      <td>57.000000</td>\n",
       "      <td>1.000000</td>\n",
       "      <td>13.000000</td>\n",
       "      <td>0.000000</td>\n",
       "      <td>0.000000</td>\n",
       "      <td>42.000000</td>\n",
       "      <td>41.000000</td>\n",
       "      <td>1.000000</td>\n",
       "    </tr>\n",
       "    <tr>\n",
       "      <th>max</th>\n",
       "      <td>2215.000000</td>\n",
       "      <td>1100.000000</td>\n",
       "      <td>1100.000000</td>\n",
       "      <td>480.000000</td>\n",
       "      <td>736.000000</td>\n",
       "      <td>736.000000</td>\n",
       "      <td>479.000000</td>\n",
       "      <td>1100.000000</td>\n",
       "      <td>1100.000000</td>\n",
       "      <td>91.000000</td>\n",
       "    </tr>\n",
       "  </tbody>\n",
       "</table>\n",
       "</div>"
      ],
      "text/plain": [
       "          Zip Code  TtlProjUnits    RentUnits     OwnUnits    TtlMarket  \\\n",
       "count  1442.000000   1445.000000  1445.000000  1445.000000  1444.000000   \n",
       "mean   2125.432039     59.560554    50.979239     8.581315    20.247230   \n",
       "std      13.627488    102.308222   100.132590    29.216307    63.463419   \n",
       "min    2108.000000      1.000000     0.000000     0.000000     0.000000   \n",
       "25%    2119.000000      5.000000     1.000000     0.000000     0.000000   \n",
       "50%    2124.000000     23.000000    10.000000     0.000000     0.000000   \n",
       "75%    2128.000000     66.000000    57.000000     1.000000    13.000000   \n",
       "max    2215.000000   1100.000000  1100.000000   480.000000   736.000000   \n",
       "\n",
       "        MarketRent    MarketOwn  Total Income-Restricted  \\\n",
       "count  1444.000000  1444.000000              1445.000000   \n",
       "mean     13.674515     6.572715                39.321107   \n",
       "std      55.704068    27.671639                81.572228   \n",
       "min       0.000000     0.000000                 1.000000   \n",
       "25%       0.000000     0.000000                 3.000000   \n",
       "50%       0.000000     0.000000                10.000000   \n",
       "75%       0.000000     0.000000                42.000000   \n",
       "max     736.000000   479.000000              1100.000000   \n",
       "\n",
       "       Income-Restricted Rental  Income-Restricted Ownership  \n",
       "count               1445.000000                  1444.000000  \n",
       "mean                  37.319031                     2.003463  \n",
       "std                   82.166087                     5.679777  \n",
       "min                    0.000000                     0.000000  \n",
       "25%                    1.000000                     0.000000  \n",
       "50%                    6.000000                     0.000000  \n",
       "75%                   41.000000                     1.000000  \n",
       "max                 1100.000000                    91.000000  "
      ]
     },
     "execution_count": 15,
     "metadata": {},
     "output_type": "execute_result"
    }
   ],
   "source": [
    "import pandas as pd\n",
    "import numpy as np\n",
    "import matplotlib.pyplot as plt\n",
    "\n",
    "df = pd.read_csv('income-restricted-inventory-2021.csv') #dataset that was recommended \n",
    "df.describe()\n"
   ]
  },
  {
   "cell_type": "code",
   "execution_count": 37,
   "metadata": {},
   "outputs": [
    {
     "name": "stderr",
     "output_type": "stream",
     "text": [
      "/opt/anaconda3/lib/python3.8/site-packages/matplotlib/text.py:1163: FutureWarning: elementwise comparison failed; returning scalar instead, but in the future will perform elementwise comparison\n",
      "  if s != self._text:\n"
     ]
    },
    {
     "data": {
      "image/png": "[encoded data removed]",
      "text/plain": [
       "<Figure size 432x288 with 1 Axes>"
      ]
     },
     "metadata": {
      "needs_background": "light"
     },
     "output_type": "display_data"
    }
   ],
   "source": [
    "#the bar chart below shows the distribution by 29 Boston zipcodes. You can see there is a range of zipcodes which have no income restricted housing, whereas high spikes in certain zipcodes.\n",
    "plt.bar(df['Zip Code'], df['Total Income-Restricted'])\n",
    "plt.xlabel(df['Zip Code'].unique())\n",
    "plt.ylabel('Total Income-Restricted ')\n",
    "plt.title('Geographic Distribution From 29 Zipcodes')\n",
    "plt.show()\n",
    "#The next step is to plot this onto a map, which will show clusters based around zipcode. You can see this by the scatterplot below where there are no affordable housing projects within the set range, meaning there is a trend of a certain area within this zipcode range that has no affordable housing.\n",
    "\n"
   ]
  },
  {
   "cell_type": "code",
   "execution_count": 40,
   "metadata": {},
   "outputs": [
    {
     "name": "stderr",
     "output_type": "stream",
     "text": [
      "/opt/anaconda3/lib/python3.8/site-packages/matplotlib/text.py:1163: FutureWarning: elementwise comparison failed; returning scalar instead, but in the future will perform elementwise comparison\n",
      "  if s != self._text:\n"
     ]
    },
    {
     "data": {
      "image/png": "[encoded data removed]",
      "text/plain": [
       "<Figure size 432x288 with 1 Axes>"
      ]
     },
     "metadata": {
      "needs_background": "light"
     },
     "output_type": "display_data"
    }
   ],
   "source": [
    "df = pd.read_csv('income-restricted-inventory-2021.csv') #dataset that was recommended \n",
    "Not = (df['TtlProjUnits'] - df['Total Income-Restricted'])\n",
    "plt.bar(df['Zip Code'], Not)\n",
    "plt.xlabel(df['Zip Code'].unique())\n",
    "plt.ylabel('Not Affordable Housing')\n",
    "plt.title('Geographic Distribution Not Affordable Housing')\n",
    "plt.show()\n",
    "\n"
   ]
  },
  {
   "cell_type": "code",
   "execution_count": 18,
   "metadata": {},
   "outputs": [
    {
     "name": "stdout",
     "output_type": "stream",
     "text": [
      "29\n",
      "86065\n",
      "73665\n",
      "12400\n",
      "53926\n",
      "2893.0\n",
      "56819\n",
      "29246\n"
     ]
    }
   ],
   "source": [
    "print(len(df['Zip Code'].unique())) #used for the geopgraphic distribution 29 zipcodes in this project set\n",
    "print(df['TtlProjUnits'].sum()) #86,065 total units of this project including both income restricted and not income restricted (definition from the data set dictionary)\n",
    "print(df['RentUnits'].sum()) #73,665 supplemental to answer 2a\n",
    "print(df['OwnUnits'].sum()) #12,400 also supplemental to answer 2a\n",
    "print(df['Income-Restricted Rental'].sum()) #51,810 1a answer\n",
    "print(df['Income-Restricted Ownership'].sum()) #2,893 1a answer\n",
    "print(df['Total Income-Restricted'].sum()) #54,703 1a answer\n",
    "print(df['TtlProjUnits'].sum() - df['Total Income-Restricted'].sum()) #29,246 answer to question 2a\n"
   ]
  }
 ],
 "metadata": {
  "kernelspec": {
   "display_name": "base",
   "language": "python",
   "name": "python3"
  },
  "language_info": {
   "codemirror_mode": {
    "name": "ipython",
    "version": 3
   },
   "file_extension": ".py",
   "mimetype": "text/x-python",
   "name": "python",
   "nbconvert_exporter": "python",
   "pygments_lexer": "ipython3",
   "version": "3.8.5"
  },
  "orig_nbformat": 4
 },
 "nbformat": 4,
 "nbformat_minor": 2
}
