{
  "nbformat": 4,
  "nbformat_minor": 0,
  "metadata": {
    "colab": {
      "provenance": []
    },
    "kernelspec": {
      "name": "python3",
      "display_name": "Python 3"
    },
    "language_info": {
      "name": "python"
    }
  },
  "cells": [
    {
      "cell_type": "code",
      "execution_count": null,
      "metadata": {
        "colab": {
          "base_uri": "https://localhost:8080/"
        },
        "id": "b2BDKMGzEJrs",
        "outputId": "c0b35311-7ad2-4cda-b30c-2e4be3d8b3e2"
      },
      "outputs": [
        {
          "output_type": "stream",
          "name": "stdout",
          "text": [
            "RESIDENTIAL CONDO      38.453398\n",
            "SINGLE FAM DWELLING    17.052263\n",
            "TWO-FAM DWELLING        9.493387\n",
            "THREE-FAM DWELLING      7.511842\n",
            "CONDO MAIN              5.752584\n",
            "                         ...    \n",
            "AUTO SALVAGE YARD       0.000560\n",
            "DAIRY                   0.000560\n",
            "MINING QUARRYING        0.000560\n",
            "MOBILE HOME             0.000560\n",
            "ARMORY (MILITARY)       0.000560\n",
            "Name: LU_DESC, Length: 194, dtype: float64\n"
          ]
        }
      ],
      "source": [
        "import pandas as pd\n",
        "\n",
        "df = pd.read_csv('fy2022pa-4.csv')\n",
        "\n",
        "lu_desc_counts = df['LU_DESC'].value_counts()\n",
        "lu_desc_percentages = lu_desc_counts / len(df) * 100\n",
        "\n",
        "print(lu_desc_percentages)"
      ]
    },
    {
      "cell_type": "code",
      "source": [
        "import pandas as pd\n",
        "\n",
        "df = pd.read_csv('fy2022pa-4.csv')\n",
        "\n",
        "single_family_homes = df[df['LU_DESC'] == 'SINGLE FAM DWELLING']\n",
        "neighborhood_counts = single_family_homes['MAIL_CITY'].value_counts()\n",
        "top_neighborhoods = neighborhood_counts.head(10).index.tolist() # Change to the number of neighborhoods you want to extract\n",
        "\n",
        "print('Top neighborhoods with the most single-family homes:', top_neighborhoods)\n"
      ],
      "metadata": {
        "colab": {
          "base_uri": "https://localhost:8080/"
        },
        "id": "qnpIMWDzq1Mb",
        "outputId": "375813b3-53a4-4391-d5e0-c3dd749e9b9e"
      },
      "execution_count": null,
      "outputs": [
        {
          "output_type": "stream",
          "name": "stdout",
          "text": [
            "Top neighborhoods with the most single-family homes: ['WEST ROXBURY', 'DORCHESTER', 'HYDE PARK', 'ROSLINDALE', 'JAMAICA PLAIN', 'MATTAPAN', 'BOSTON', 'BRIGHTON', 'SOUTH BOSTON', 'CHARLESTOWN']\n"
          ]
        }
      ]
    },
    {
      "cell_type": "code",
      "source": [
        "import pandas as pd\n",
        "df = pd.read_csv('fy2022pa-4.csv')\n",
        "\n",
        "grouped = df.groupby(['MAIL_CITY', 'LU_DESC']).size()\n",
        "total_counts = grouped.groupby(level=0).transform(sum)\n",
        "percentages = grouped / total_counts * 100\n",
        "\n",
        "print(percentages)"
      ],
      "metadata": {
        "colab": {
          "base_uri": "https://localhost:8080/"
        },
        "id": "hZ__PDg6E-7V",
        "outputId": "d102a3a3-4246-44eb-a307-9592c426e80e"
      },
      "execution_count": null,
      "outputs": [
        {
          "output_type": "stream",
          "name": "stdout",
          "text": [
            "MAIL_CITY       LU_DESC            \n",
            " BOSTON         RESIDENTIAL CONDO       75.0\n",
            "                TWO-FAM DWELLING        25.0\n",
            " HINGHAM        RESIDENTIAL CONDO      100.0\n",
            " LYNNFIELD      THREE-FAM DWELLING     100.0\n",
            " SOUTH  BOSTON  RESIDENTIAL CONDO      100.0\n",
            "                                       ...  \n",
            "YUCAIPA         SINGLE FAM DWELLING    100.0\n",
            "ZIONSVILLE      RESIDENTIAL CONDO      100.0\n",
            "ZURICH          OFFICE CLS B+           50.0\n",
            "                RESIDENTIAL CONDO       50.0\n",
            "saginaw         RESIDENTIAL CONDO      100.0\n",
            "Length: 7732, dtype: float64\n"
          ]
        }
      ]
    },
    {
      "cell_type": "code",
      "source": [
        "import pandas as pd\n",
        "df = pd.read_csv('fy2022pa-4.csv')\n",
        "\n",
        "df['TOTAL_VALUE'] = df['TOTAL_VALUE'].str.replace(',', '')\n",
        "df['TOTAL_VALUE'] = pd.to_numeric(df['TOTAL_VALUE'])\n",
        "average_prices = df.groupby('MAIL_CITY')['total'].mean()\n",
        "\n",
        "average_prices.to_csv('average_prices_by_neighborhood.csv')"
      ],
      "metadata": {
        "id": "m43Kg9qysY1P"
      },
      "execution_count": null,
      "outputs": []
    }
  ]
}